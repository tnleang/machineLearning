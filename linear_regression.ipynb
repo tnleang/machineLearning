{
  "nbformat": 4,
  "nbformat_minor": 0,
  "metadata": {
    "kernelspec": {
      "display_name": "Python 3",
      "language": "python",
      "name": "python3"
    },
    "language_info": {
      "codemirror_mode": {
        "name": "ipython",
        "version": 3
      },
      "file_extension": ".py",
      "mimetype": "text/x-python",
      "name": "python",
      "nbconvert_exporter": "python",
      "pygments_lexer": "ipython3",
      "version": "3.5.3"
    },
    "colab": {
      "name": "Assignment_1.ipynb",
      "provenance": [],
      "collapsed_sections": [],
      "include_colab_link": true
    }
  },
  "cells": [
    {
      "cell_type": "markdown",
      "metadata": {
        "id": "view-in-github",
        "colab_type": "text"
      },
      "source": [
        "<a href=\"https://colab.research.google.com/github/tnleang/machineLearning/blob/master/linear_regression.ipynb\" target=\"_parent\"><img src=\"https://colab.research.google.com/assets/colab-badge.svg\" alt=\"Open In Colab\"/></a>"
      ]
    },
    {
      "cell_type": "markdown",
      "metadata": {
        "deletable": true,
        "editable": true,
        "id": "m_R4z-lmbSjo",
        "colab_type": "text"
      },
      "source": [
        "<h2>Assignment 1 - Linear Regression on Boston Housing Data</h2>"
      ]
    },
    {
      "cell_type": "code",
      "metadata": {
        "deletable": true,
        "editable": true,
        "id": "WJ3cJxt3bSjp",
        "colab_type": "code",
        "colab": {}
      },
      "source": [
        "# The modules we're going to use\n",
        "from __future__ import print_function\n",
        "from sklearn import preprocessing\n",
        "from sklearn.model_selection import train_test_split\n",
        "from sklearn import datasets, linear_model\n",
        "from scipy import linalg\n",
        "import numpy as np\n",
        "import matplotlib.pyplot as plt\n",
        "\n",
        "\n",
        "# When you execute a code to plot with a simple SHIFT-ENTER, the plot will be shown directly under the code cell\n",
        "%matplotlib inline"
      ],
      "execution_count": 0,
      "outputs": []
    },
    {
      "cell_type": "markdown",
      "metadata": {
        "id": "LDdCIr93goHy",
        "colab_type": "text"
      },
      "source": [
        ""
      ]
    },
    {
      "cell_type": "code",
      "metadata": {
        "deletable": true,
        "editable": true,
        "id": "VXXIgKFJbSjr",
        "colab_type": "code",
        "colab": {}
      },
      "source": [
        "# Load data from scikit-learn, which returns (data, target)\n",
        "# note: if you call \"boston = load_boston()\", it returns a dictionary-like object\n",
        "data, target = datasets.load_boston(True)\n",
        "\n",
        "# Split the data into two parts: training data and testing data\n",
        "train_data,test_data,train_target,test_target = train_test_split(data,(target[:, np.newaxis]), test_size=0.2, random_state=42)\n",
        "\n",
        "\n",
        "\n",
        "# based function to perform the tasks below\n",
        "# MSE using numpy\n",
        "def mean_square_err(test_target,predict_target):\n",
        "  return np.square(np.subtract(test_target, predict_target)).sum() /(2 * len(test_target))\n",
        "\n",
        "# compute loss\n",
        "def lossFunction(X,y):\n",
        "  return mean_square_err(X,y)"
      ],
      "execution_count": 0,
      "outputs": []
    },
    {
      "cell_type": "markdown",
      "metadata": {
        "deletable": true,
        "editable": true,
        "id": "NA3ezrA-bSjt",
        "colab_type": "text"
      },
      "source": [
        "<h4>Use scikit-learn library in the following cell</h4>"
      ]
    },
    {
      "cell_type": "code",
      "metadata": {
        "deletable": true,
        "editable": true,
        "id": "hlqomvfpbSjt",
        "colab_type": "code",
        "outputId": "14fde78d-6ba4-41b4-d064-35967cd2ddda",
        "colab": {
          "base_uri": "https://localhost:8080/",
          "height": 170
        }
      },
      "source": [
        "# Task 1-1: use linear regression in sklearn\n",
        "regr = linear_model.LinearRegression()\n",
        "regr.fit(train_data,train_target)\n",
        "predict_ptarget = regr.predict(test_data)\n",
        "train_predict = regr.predict(train_data)\n",
        "\n",
        "#print(test_target)\n",
        "#print(predict_ptarget)\n",
        "# Task 1-2: show intercept and coefficents\n",
        "print('Intercept: \\n', regr.intercept_ )\n",
        "print('Coefficients: \\n', regr.coef_)\n",
        "\n",
        "# Task 1-3: show errors on training dataset and testing dataset\n",
        "print(\"Mean squared error train data: %.2f\" %  mean_square_err(train_target,train_predict)) \n",
        "print(\"Mean squared error test data: %.2f\" %  mean_square_err(test_target,predict_ptarget)) "
      ],
      "execution_count": 3,
      "outputs": [
        {
          "output_type": "stream",
          "text": [
            "Intercept: \n",
            " [30.24675099]\n",
            "Coefficients: \n",
            " [[-1.13055924e-01  3.01104641e-02  4.03807204e-02  2.78443820e+00\n",
            "  -1.72026334e+01  4.43883520e+00 -6.29636221e-03 -1.44786537e+00\n",
            "   2.62429736e-01 -1.06467863e-02 -9.15456240e-01  1.23513347e-02\n",
            "  -5.08571424e-01]]\n",
            "Mean squared error train data: 10.82\n",
            "Mean squared error test data: 12.15\n"
          ],
          "name": "stdout"
        }
      ]
    },
    {
      "cell_type": "markdown",
      "metadata": {
        "deletable": true,
        "editable": true,
        "id": "RpX2tOa5bSjv",
        "colab_type": "text"
      },
      "source": [
        "<h4>Use analytical solution (normal equation) to perform linear regression in the following cell</h4>"
      ]
    },
    {
      "cell_type": "code",
      "metadata": {
        "deletable": true,
        "editable": true,
        "id": "YZJJ0sUGbSjv",
        "colab_type": "code",
        "outputId": "a6434a64-118f-4ff2-c406-9febc9404341",
        "colab": {
          "base_uri": "https://localhost:8080/",
          "height": 323
        }
      },
      "source": [
        "# Task 2-1: Implement a function solving normal equation \n",
        "# Inputs: Training data and  training label\n",
        "# Output: Weights\n",
        "def myNormalEqualFun(X,y):\n",
        "  return (linalg.inv((X.T @ X)) @ X.T) @ y\n",
        "\n",
        "    \n",
        "# Task 2-2: Implement a function performing prediction\n",
        "# Inputs: Testing data and weights\n",
        "# Output: Predictions\n",
        "def myPredictFun(X,w):\n",
        "    return X @ w\n",
        "\n",
        "# Here we insert a column of 1s into training_data and test_data (to be consistent with our lecture slides)\n",
        "train_data_intercept = np.insert(train_data, 0, 1, axis=1)\n",
        "test_data_intercept = np.insert(test_data, 0, 1, axis=1)\n",
        "\n",
        "# Here we call myNormalEqual to train the model and get weights\n",
        "w = myNormalEqualFun(train_data_intercept,train_target)\n",
        "predict_target = myPredictFun(test_data_intercept, w)\n",
        "train_predict = myPredictFun(train_data_intercept, w)\n",
        "\n",
        "\n",
        "# Task 2-3: show intercept and coefficents\n",
        "print('Intercept: \\n', w[0] )\n",
        "print('Coefficents: \\n',w[1:])\n",
        "\n",
        "\n",
        "# Task 2-4: show errors on training dataset and testing dataset\n",
        "print(\"Mean squared error train data: %.2f\" %  mean_square_err(train_target,train_predict)) \n",
        "print(\"Mean squared error test data: %.2f\" %  mean_square_err(test_target,predict_target)) "
      ],
      "execution_count": 76,
      "outputs": [
        {
          "output_type": "stream",
          "text": [
            "Intercept: \n",
            " [22.79653465]\n",
            "Coefficents: \n",
            " [[-1.00213533]\n",
            " [ 0.69626862]\n",
            " [ 0.27806485]\n",
            " [ 0.7187384 ]\n",
            " [-2.0223194 ]\n",
            " [ 3.14523956]\n",
            " [-0.17604788]\n",
            " [-3.0819076 ]\n",
            " [ 2.25140666]\n",
            " [-1.76701378]\n",
            " [-2.03775151]\n",
            " [ 1.12956831]\n",
            " [-3.61165842]]\n",
            "Mean squared error train data: 10.82\n",
            "Mean squared error test data: 12.15\n"
          ],
          "name": "stdout"
        }
      ]
    },
    {
      "cell_type": "markdown",
      "metadata": {
        "deletable": true,
        "editable": true,
        "id": "1hhVEfixbSjx",
        "colab_type": "text"
      },
      "source": [
        "<h4>Use numerical solution (basic gradient descent) to perform linear regression in the following cell</h4>"
      ]
    },
    {
      "cell_type": "code",
      "metadata": {
        "deletable": true,
        "editable": true,
        "id": "3H1IxOBubSjy",
        "colab_type": "code",
        "outputId": "9be21b97-2144-4254-e8ac-83fb9c9a49bf",
        "colab": {
          "base_uri": "https://localhost:8080/",
          "height": 915
        }
      },
      "source": [
        "# Feature scaling\n",
        "scaler = preprocessing.StandardScaler().fit(train_data)\n",
        "train_data = scaler.transform(train_data)\n",
        "test_data = scaler.transform(test_data)\n",
        "\n",
        "\n",
        "# Task 3-1: Implement a function performing gradient descent\n",
        "# Inputs: Training data, training label, leaerning rate, number of iterations, Testing data, testing label\n",
        "# Output: the final Weights\n",
        "#         the loss history along iterations\n",
        "def myGradientDescentFun(X,y,learning_rate,numItrs,test_X, test_y):\n",
        "    \n",
        "    n_size = len(y)\n",
        "    w = np.random.rand(np.size(X,1),1)\n",
        "    history = []\n",
        "    history_test = []\n",
        "    \n",
        "    for i in range(numItrs):\n",
        "      # compute gradient and update weights\n",
        "      gradient = -(1 / n_size) * ((X.T @ (y - (X @ w)))) \n",
        "      w = w - learning_rate * gradient \n",
        "      \n",
        "      # compute the loss with train data and test data\n",
        "      y_predict = myPredictFun(X,w)  \n",
        "      y_validate = myPredictFun(test_X,w) \n",
        "      loss = lossFunction(y, y_predict)\n",
        "      loss_validate = lossFunction(test_y, y_validate)\n",
        "      \n",
        "      # store the loss history\n",
        "      history.append(loss)\n",
        "      history_test.append(loss_validate)\n",
        "      \n",
        "    return w,history, history_test\n",
        "\n",
        "# Task 3-2: Implement a function performing prediction\n",
        "# Inputs: Testing data and weights\n",
        "# Output: Predictions\n",
        "def myPredictFun(X,w):\n",
        "    return X @ w\n",
        "\n",
        "# Here we insert a column of 1s into training_data and test_data (to be consistent with our lecture slides)\n",
        "train_data_intercept = np.insert(train_data, 0, 1, axis=1)\n",
        "test_data_intercept = np.insert(test_data, 0, 1, axis=1)\n",
        "\n",
        "# Here we call myGradientDescentFun to train the model and get weights\n",
        "# Note: you need to figure out good learning rate value and the number of iterations\n",
        "w,history, history_test = myGradientDescentFun(train_data_intercept,train_target,0.3,250, test_data_intercept, test_target)\n",
        "\n",
        "predict_target = myPredictFun(test_data_intercept, w)\n",
        "train_predict = myPredictFun(train_data_intercept, w)\n",
        "\n",
        "\n",
        "# Task 3-3: show intercept and coefficents\n",
        "print('Intercept: \\n', w[0] )\n",
        "print('Coefficents: \\n',w[1:])\n",
        "\n",
        "\n",
        "# Task 3-4: show errors on training dataset and testing dataset\n",
        "print(\"Mean squared error train data: %.2f\" %  mean_square_err(train_target,train_predict)) \n",
        "print(\"Mean squared error test data: %.2f\" %  mean_square_err(test_target,predict_target)) \n",
        "\n",
        "\n",
        "# Task 3-5: plot learning curves showing training errors and testing errors along iterations\n",
        "# Get training and test loss histories\n",
        "fig = plt.figure(figsize=[20,10])\n",
        "plt.ylabel('Loss')\n",
        "plt.xlabel('Iteration')\n",
        "plt.plot(history, label='Train_data')\n",
        "plt.plot(history_test, label='Test_data')\n",
        "plt.legend()\n",
        "plt.show()\n",
        "\n"
      ],
      "execution_count": 90,
      "outputs": [
        {
          "output_type": "stream",
          "text": [
            "Intercept: \n",
            " [22.79653465]\n",
            "Coefficents: \n",
            " [[-1.0009387 ]\n",
            " [ 0.69344751]\n",
            " [ 0.2726685 ]\n",
            " [ 0.71958042]\n",
            " [-2.02172298]\n",
            " [ 3.14654623]\n",
            " [-0.17653382]\n",
            " [-3.08121565]\n",
            " [ 2.23516414]\n",
            " [-1.74888601]\n",
            " [-2.03726629]\n",
            " [ 1.12947043]\n",
            " [-3.61086527]]\n",
            "Mean squared error train data: 10.82\n",
            "Mean squared error test data: 12.15\n"
          ],
          "name": "stdout"
        },
        {
          "output_type": "display_data",
          "data": {
            "image/png": "[encoded data removed]",
            "text/plain": [
              "<Figure size 1440x720 with 1 Axes>"
            ]
          },
          "metadata": {
            "tags": []
          }
        }
      ]
    },
    {
      "cell_type": "markdown",
      "metadata": {
        "id": "Rx1UOqmfcNe0",
        "colab_type": "text"
      },
      "source": [
        "<h4>Use numerical solution (stochastic gradient descent) to perform linear regression in the following cell</h4>"
      ]
    },
    {
      "cell_type": "code",
      "metadata": {
        "id": "96_WVyVKcNss",
        "colab_type": "code",
        "outputId": "5917dec0-9308-42b2-a2b2-34e3f50cc5bd",
        "colab": {
          "base_uri": "https://localhost:8080/",
          "height": 915
        }
      },
      "source": [
        "# Feature scaling\n",
        "scaler = preprocessing.StandardScaler().fit(train_data)\n",
        "train_data = scaler.transform(train_data)\n",
        "test_data = scaler.transform(test_data)\n",
        "\n",
        "\n",
        "# perform batch\n",
        "# cutting the array of data set into batches\n",
        "def batch_gradient(X,y,batchsize):\n",
        "  for i in range(0,X.shape[0],batchsize):\n",
        "    yield (X[i:i+batchsize], y[i:i+batchsize])\n",
        "\n",
        "\n",
        "# Task 4-1: Implement a function performing gradient descent\n",
        "# Inputs: Training data, training label, learning rate, number of epoches, batch size, Testing data, testing label\n",
        "# Output: the final Weights\n",
        "#         the loss history along batches\n",
        "def myGradientDescentFun(X,y,learning_rate,epoches, batchsize,test_X, test_y):\n",
        "\n",
        "    # initialize\n",
        "    w = np.random.rand(np.size(X,1),1) # weights\n",
        "    history = []   # train loss history\n",
        "    history_test = [] # test loss history\n",
        "    \n",
        "    for i in range(epoches):\n",
        "      for batch in batch_gradient(X,y,batchsize):\n",
        "        # perform LR on each batch\n",
        "        # compute gradient and update weights\n",
        "        gradient = -(1 / len(batch[0]) * ((batch[0].T @ (batch[1] - (batch[0] @ w)))))\n",
        "        w = w - learning_rate * gradient\n",
        "        \n",
        "        # compute the loss with train data and test data\n",
        "        y_predict = myPredictFun(batch[0],w)\n",
        "        y_validate = myPredictFun(test_X,w)\n",
        "        loss = mean_square_err(batch[1], y_predict)\n",
        "        loss_validate = mean_square_err(test_y, y_validate)\n",
        "        \n",
        "        # store the loss history\n",
        "        history.append(loss)\n",
        "        history_test.append(loss_validate)\n",
        "    \n",
        "    return w, history, history_test\n",
        "\n",
        "# Task 4-2: Implement a function performing prediction\n",
        "# Inputs: Testing data and weights\n",
        "# Output: Predictions\n",
        "def myPredictFun(X,w):\n",
        "    return X @ w\n",
        "\n",
        "# Here we insert a column of 1s into training_data and test_data (to be consistent with our lecture slides)\n",
        "train_data_intercept = np.insert(train_data, 0, 1, axis=1)\n",
        "test_data_intercept = np.insert(test_data, 0, 1, axis=1)\n",
        "\n",
        "# Here we call myGradientDescentFun to train the model and get weights\n",
        "# Note: you need to figure out good learning rate value and the number of iterations\n",
        "w,history, history_test = myGradientDescentFun(train_data_intercept,train_target,0.001,100,1, test_data_intercept, test_target)\n",
        "predict_target = myPredictFun(test_data_intercept, w)\n",
        "train_predict = myPredictFun(train_data_intercept, w)\n",
        "\n",
        "\n",
        "# Task 4-3: show intercept and coefficents\n",
        "print('Intercept: \\n', w[0] )\n",
        "print('Coefficents: \\n',w[1:])\n",
        "\n",
        "\n",
        "# Task 4-4: show errors on training dataset and testing dataset\n",
        "print(\"Mean squared error train data: %.2f\" %  mean_square_err(train_target,train_predict)) \n",
        "print(\"Mean squared error test data: %.2f\" %  mean_square_err(test_target,predict_target)) \n",
        "\n",
        "\n",
        "# Task 4-5: plot learning curves showing training errors and testing errors along bath\n",
        "fig = plt.figure(figsize=[20,10])\n",
        "plt.ylabel('Loss')\n",
        "plt.xlabel('Iteration')\n",
        "plt.plot(history, label='Train_data')\n",
        "plt.plot(history_test, label='Test_data')\n",
        "plt.legend()\n",
        "plt.show()"
      ],
      "execution_count": 87,
      "outputs": [
        {
          "output_type": "stream",
          "text": [
            "Intercept: \n",
            " [22.78524252]\n",
            "Coefficents: \n",
            " [[-1.00434044]\n",
            " [ 0.6918346 ]\n",
            " [ 0.26008253]\n",
            " [ 0.76623403]\n",
            " [-2.02058457]\n",
            " [ 3.11490897]\n",
            " [-0.19467501]\n",
            " [-3.10394278]\n",
            " [ 2.16799519]\n",
            " [-1.56669975]\n",
            " [-2.01336812]\n",
            " [ 1.11975627]\n",
            " [-3.62272913]]\n",
            "Mean squared error train data: 10.83\n",
            "Mean squared error test data: 12.10\n"
          ],
          "name": "stdout"
        },
        {
          "output_type": "display_data",
          "data": {
            "image/png": "[encoded data removed]",
            "text/plain": [
              "<Figure size 1440x720 with 1 Axes>"
            ]
          },
          "metadata": {
            "tags": []
          }
        }
      ]
    }
  ]
}