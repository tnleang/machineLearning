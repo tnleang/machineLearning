{
  "nbformat": 4,
  "nbformat_minor": 0,
  "metadata": {
    "kernelspec": {
      "display_name": "Python 3",
      "language": "python",
      "name": "python3"
    },
    "language_info": {
      "codemirror_mode": {
        "name": "ipython",
        "version": 3
      },
      "file_extension": ".py",
      "mimetype": "text/x-python",
      "name": "python",
      "nbconvert_exporter": "python",
      "pygments_lexer": "ipython3",
      "version": "3.5.3"
    },
    "colab": {
      "name": "Assignment_1.ipynb",
      "provenance": [],
      "collapsed_sections": [],
      "include_colab_link": true
    }
  },
  "cells": [
    {
      "cell_type": "markdown",
      "metadata": {
        "id": "view-in-github",
        "colab_type": "text"
      },
      "source": [
        "<a href=\"https://colab.research.google.com/github/tnleang/machineLearning/blob/master/Assignment_1.ipynb\" target=\"_parent\"><img src=\"https://colab.research.google.com/assets/colab-badge.svg\" alt=\"Open In Colab\"/></a>"
      ]
    },
    {
      "cell_type": "markdown",
      "metadata": {
        "deletable": true,
        "editable": true,
        "id": "m_R4z-lmbSjo",
        "colab_type": "text"
      },
      "source": [
        "<h2>Assignment 1 - Linear Regression on Boston Housing Data</h2>"
      ]
    },
    {
      "cell_type": "code",
      "metadata": {
        "deletable": true,
        "editable": true,
        "id": "WJ3cJxt3bSjp",
        "colab_type": "code",
        "colab": {}
      },
      "source": [
        "# The modules we're going to use\n",
        "from __future__ import print_function\n",
        "from sklearn import preprocessing\n",
        "from sklearn.model_selection import train_test_split\n",
        "from sklearn import datasets, linear_model\n",
        "from scipy import linalg\n",
        "import numpy as np\n",
        "import matplotlib.pyplot as plt\n",
        "\n",
        "\n",
        "# When you execute a code to plot with a simple SHIFT-ENTER, the plot will be shown directly under the code cell\n",
        "%matplotlib inline"
      ],
      "execution_count": 0,
      "outputs": []
    },
    {
      "cell_type": "markdown",
      "metadata": {
        "id": "LDdCIr93goHy",
        "colab_type": "text"
      },
      "source": [
        ""
      ]
    },
    {
      "cell_type": "code",
      "metadata": {
        "deletable": true,
        "editable": true,
        "id": "VXXIgKFJbSjr",
        "colab_type": "code",
        "colab": {}
      },
      "source": [
        "# Load data from scikit-learn, which returns (data, target)\n",
        "# note: if you call \"boston = load_boston()\", it returns a dictionary-like object\n",
        "data, target = datasets.load_boston(True)\n",
        "\n",
        "# Split the data into two parts: training data and testing data\n",
        "train_data,test_data,train_target,test_target = train_test_split(data,(target[:, np.newaxis]), test_size=0.2, random_state=42)\n",
        "\n",
        "# MSE using numpy\n",
        "def mean_square_err(test_target,predict_target):\n",
        "  return np.square(np.subtract(test_target, predict_target)).sum() /(2 * len(test_target))"
      ],
      "execution_count": 0,
      "outputs": []
    },
    {
      "cell_type": "markdown",
      "metadata": {
        "deletable": true,
        "editable": true,
        "id": "NA3ezrA-bSjt",
        "colab_type": "text"
      },
      "source": [
        "<h4>Use scikit-learn library in the following cell</h4>"
      ]
    },
    {
      "cell_type": "code",
      "metadata": {
        "deletable": true,
        "editable": true,
        "id": "hlqomvfpbSjt",
        "colab_type": "code",
        "outputId": "c99790ba-94c6-49d2-c6a1-da97640a0124",
        "colab": {
          "base_uri": "https://localhost:8080/",
          "height": 170
        }
      },
      "source": [
        "# Task 1-1: use linear regression in sklearn\n",
        "regr = linear_model.LinearRegression()\n",
        "regr.fit(train_data,train_target)\n",
        "predict_ptarget = regr.predict(test_data)\n",
        "train_predict = regr.predict(train_data)\n",
        "\n",
        "#print(test_target)\n",
        "#print(predict_ptarget)\n",
        "# Task 1-2: show intercept and coefficents\n",
        "print('Intercept: \\n', regr.intercept_ )\n",
        "print('Coefficients: \\n', regr.coef_)\n",
        "\n",
        "# Task 1-3: show errors on training dataset and testing dataset\n",
        "print(\"Mean squared error train data: %.2f\" %  mean_square_err(train_target,train_predict)) \n",
        "print(\"Mean squared error test data: %.2f\" %  mean_square_err(test_target,predict_ptarget)) "
      ],
      "execution_count": 3,
      "outputs": [
        {
          "output_type": "stream",
          "text": [
            "Intercept: \n",
            " [30.24675099]\n",
            "Coefficients: \n",
            " [[-1.13055924e-01  3.01104641e-02  4.03807204e-02  2.78443820e+00\n",
            "  -1.72026334e+01  4.43883520e+00 -6.29636221e-03 -1.44786537e+00\n",
            "   2.62429736e-01 -1.06467863e-02 -9.15456240e-01  1.23513347e-02\n",
            "  -5.08571424e-01]]\n",
            "Mean squared error train data: 10.82\n",
            "Mean squared error test data: 12.15\n"
          ],
          "name": "stdout"
        }
      ]
    },
    {
      "cell_type": "markdown",
      "metadata": {
        "deletable": true,
        "editable": true,
        "id": "RpX2tOa5bSjv",
        "colab_type": "text"
      },
      "source": [
        "<h4>Use analytical solution (normal equation) to perform linear regression in the following cell</h4>"
      ]
    },
    {
      "cell_type": "code",
      "metadata": {
        "deletable": true,
        "editable": true,
        "id": "YZJJ0sUGbSjv",
        "colab_type": "code",
        "outputId": "4c28946d-a75b-4cd2-ac69-a4cce105495a",
        "colab": {
          "base_uri": "https://localhost:8080/",
          "height": 323
        }
      },
      "source": [
        "# Task 2-1: Implement a function solving normal equation \n",
        "# Inputs: Training data and  training label\n",
        "# Output: Weights\n",
        "def myNormalEqualFun(X,y):\n",
        "  return np.matmul( np.matmul( linalg.inv( np.matmul(X.T, X)), X.T),y)\n",
        "    \n",
        "# Task 2-2: Implement a function performing prediction\n",
        "# Inputs: Testing data and weights\n",
        "# Output: Predictions\n",
        "def myPredictFun(X,w):\n",
        "    return np.matmul(X, w)\n",
        "\n",
        "# Here we insert a column of 1s into training_data and test_data (to be consistent with our lecture slides)\n",
        "train_data_intercept = np.insert(train_data, 0, 1, axis=1)\n",
        "test_data_intercept = np.insert(test_data, 0, 1, axis=1)\n",
        "\n",
        "# Here we call myNormalEqual to train the model and get weights\n",
        "w = myNormalEqualFun(train_data_intercept,train_target)\n",
        "predict_target = myPredictFun(test_data_intercept, w)\n",
        "train_predict = myPredictFun(train_data_intercept, w)\n",
        "\n",
        "\n",
        "# Task 2-3: show intercept and coefficents\n",
        "print('Intercept: \\n', w[0] )\n",
        "print('Coefficents: \\n',w[1:])\n",
        "\n",
        "\n",
        "\n",
        "# Task 2-4: show errors on training dataset and testing dataset\n",
        "print(\"Mean squared error train data: %.2f\" %  mean_square_err(train_target,train_predict)) \n",
        "print(\"Mean squared error test data: %.2f\" %  mean_square_err(test_target,predict_target)) "
      ],
      "execution_count": 4,
      "outputs": [
        {
          "output_type": "stream",
          "text": [
            "Intercept: \n",
            " [30.24675099]\n",
            "Coefficents: \n",
            " [[-1.13055924e-01]\n",
            " [ 3.01104641e-02]\n",
            " [ 4.03807204e-02]\n",
            " [ 2.78443820e+00]\n",
            " [-1.72026334e+01]\n",
            " [ 4.43883520e+00]\n",
            " [-6.29636221e-03]\n",
            " [-1.44786537e+00]\n",
            " [ 2.62429736e-01]\n",
            " [-1.06467863e-02]\n",
            " [-9.15456240e-01]\n",
            " [ 1.23513347e-02]\n",
            " [-5.08571424e-01]]\n",
            "Mean squared error train data: 10.82\n",
            "Mean squared error test data: 12.15\n"
          ],
          "name": "stdout"
        }
      ]
    },
    {
      "cell_type": "markdown",
      "metadata": {
        "deletable": true,
        "editable": true,
        "id": "1hhVEfixbSjx",
        "colab_type": "text"
      },
      "source": [
        "<h4>Use numerical solution (baisc gradient descent) to perform linear regression in the following cell</h4>"
      ]
    },
    {
      "cell_type": "code",
      "metadata": {
        "deletable": true,
        "editable": true,
        "id": "3H1IxOBubSjy",
        "colab_type": "code",
        "colab": {
          "base_uri": "https://localhost:8080/",
          "height": 541
        },
        "outputId": "c046734c-582b-4fb8-9302-59ce946aecae"
      },
      "source": [
        "# Feature scaling\n",
        "scaler = preprocessing.StandardScaler().fit(train_data)\n",
        "train_data = scaler.transform(train_data)\n",
        "test_data = scaler.transform(test_data)\n",
        "\n",
        "# compute loss\n",
        "def lossFunction(X,y):\n",
        "  return (1/(2*len(y)))*np.sum((X-y)**2)\n",
        "  \n",
        "\n",
        "\n",
        "# Task 3-1: Implement a function performing gradient descent\n",
        "# Inputs: Training data, training label, leaerning rate, number of iterations\n",
        "# Output: the final Weights\n",
        "#         the loss history along iterations\n",
        "def myGradientDescentFun(X,y,learning_rate,numItrs):\n",
        "    # split the train data into train and validation data\n",
        "    # train_X, valid_X, train_y, valid_y = train_test_split(data,(target[:, np.newaxis]), test_size=0.2, random_state=42)\n",
        "    \n",
        "    n_size = len(y)\n",
        "    w = np.random.rand(np.size(X,1),1)\n",
        "    history = []\n",
        "    history_v = []\n",
        "    #history_w = np.zeros((numItrs))\n",
        "    best_w = w\n",
        "    \n",
        "    for i in range(numItrs):\n",
        "      gradient = -(1 / n_size) * ((X.T @ (y - (X @ w))))\n",
        "      w = w - learning_rate * gradient\n",
        "      y_predict = myPredictFun(X,w)\n",
        "      y_validate = myPredictFun(X,w)\n",
        "      history.append(lossFunction(y, y_predict))\n",
        "      # history_v.append(lossFunction(valid_y @ w, y_validate))\n",
        "      \n",
        "    return w,history,history_v\n",
        "\n",
        "# Task 3-2: Implement a function performing prediction\n",
        "# Inputs: Testing data and weights\n",
        "# Output: Predictions\n",
        "def myPredictFun(X,w):\n",
        "    return np.matmul(X, w)\n",
        "\n",
        "# Here we insert a column of 1s into training_data and test_data (to be consistent with our lecture slides)\n",
        "train_data_intercept = np.insert(train_data, 0, 1, axis=1)\n",
        "test_data_intercept = np.insert(test_data, 0, 1, axis=1)\n",
        "\n",
        "# Here we call myGradientDescentFun to train the model and get weights\n",
        "# Note: you need to figure out good learning rate value and the number of iterations\n",
        "w, loss, loss_v = myGradientDescentFun(train_data_intercept,train_target,0.1,20000)\n",
        "\n",
        "predict_target = myPredictFun(test_data_intercept, w)\n",
        "train_predict = myPredictFun(train_data_intercept, w)\n",
        "print(w)\n",
        "#print(predict_target)\n",
        "#print(w)\n",
        "\n",
        "#predict_target = myPredictFun(test_data_intercept, w)\n",
        "\n",
        "# Task 3-3: show intercept and coefficents\n",
        "\n",
        "\n",
        "# Task 3-4: show errors on training dataset and testing dataset\n",
        "print(\"Mean squared error train data: %.2f\" %  mean_square_err(train_target,train_predict)) \n",
        "print(\"Mean squared error test data: %.2f\" %  mean_square_err(test_target,predict_target)) \n",
        "\n",
        "\n",
        "# Task 3-5: plot learning curves showing training errors and testing errors along iterations\n",
        "\n",
        "# # Get training and test loss histories\n",
        "# training_loss = loss.history['loss']\n",
        "# # Create count of the number of epochs\n",
        "# epoch_count = range(1, len(training_loss) + 1)\n",
        "# # Visualize loss history\n",
        "# plt.plot(epoch_count, training_loss, 'r--')\n",
        "# plt.legend(['Training Loss'])\n",
        "# plt.xlabel('Iterations')\n",
        "# plt.ylabel('Loss')\n",
        "plt.plot(loss)\n",
        "plt.plot(loss_v)\n",
        "plt.show()\n"
      ],
      "execution_count": 19,
      "outputs": [
        {
          "output_type": "stream",
          "text": [
            "[[22.79653465]\n",
            " [-1.00213533]\n",
            " [ 0.69626862]\n",
            " [ 0.27806485]\n",
            " [ 0.7187384 ]\n",
            " [-2.0223194 ]\n",
            " [ 3.14523956]\n",
            " [-0.17604788]\n",
            " [-3.0819076 ]\n",
            " [ 2.25140666]\n",
            " [-1.76701378]\n",
            " [-2.03775151]\n",
            " [ 1.12956831]\n",
            " [-3.61165842]]\n",
            "Mean squared error train data: 10.82\n",
            "Mean squared error test data: 12.15\n"
          ],
          "name": "stdout"
        },
        {
          "output_type": "display_data",
          "data": {
            "image/png": "[encoded data removed]",
            "text/plain": [
              "<Figure size 432x288 with 1 Axes>"
            ]
          },
          "metadata": {
            "tags": []
          }
        }
      ]
    },
    {
      "cell_type": "markdown",
      "metadata": {
        "id": "Rx1UOqmfcNe0",
        "colab_type": "text"
      },
      "source": [
        "<h4>Use numerical solution (stochastic gradient descent) to perform linear regression in the following cell</h4>"
      ]
    },
    {
      "cell_type": "code",
      "metadata": {
        "id": "96_WVyVKcNss",
        "colab_type": "code",
        "colab": {}
      },
      "source": [
        "# Feature scaling\n",
        "scaler = preprocessing.StandardScaler().fit(train_data)\n",
        "train_data = scaler.transform(train_data)\n",
        "test_data = scaler.transform(test_data)\n",
        "\n",
        "\n",
        "# Task 4-1: Implement a function performing gradient descent\n",
        "# Inputs: Training data, training label, leaerning rate, number of epoches, batch size\n",
        "# Output: the final Weights\n",
        "#         the loss history along batches\n",
        "def myGradientDescentFun(X,y,learning_rate,epoches, batchsize):\n",
        "  a = np.range(X.shape[0]) # number of rows in X    \n",
        "  np. random.shuffle(a)\n",
        "  new_X = X(a)\n",
        "  new_y = y(a)\n",
        "  \n",
        "  X_batches = []\n",
        "  y_batches = []\n",
        "  for i in range(0, Xshape[0], batchsize):\n",
        "    X_batch = X[i:i+batchsize]\n",
        "    y_batch = y[i:i+batchsize]\n",
        "    X_batches.append(X_batch)\n",
        "    y_batches.append(y_batch)\n",
        "  return X_batches, y_batches\n",
        "\n",
        "# Task 4-2: Implement a function performing prediction\n",
        "# Inputs: Testing data and weights\n",
        "# Output: Predictions\n",
        "def myPredictFun(X,w):\n",
        "    return\n",
        "\n",
        "# Here we insert a column of 1s into training_data and test_data (to be consistent with our lecture slides)\n",
        "train_data_intercept = np.insert(train_data, 0, 1, axis=1)\n",
        "test_data_intercept = np.insert(test_data, 0, 1, axis=1)\n",
        "\n",
        "# Here we call myGradientDescentFun to train the model and get weights\n",
        "# Note: you need to figure out good learning rate value and the number of iterations\n",
        "w, loss = myGradientDescentFun(train_data_intercept,train_target,0,0,0)\n",
        "\n",
        "# Task 4-3: show intercept and coefficents\n",
        "\n",
        "\n",
        "# Task 4-4: show errors on training dataset and testing dataset\n",
        "\n",
        "\n",
        "# Task 4-5: plot learning curves showing training errors and testing errors along bath"
      ],
      "execution_count": 0,
      "outputs": []
    },
    {
      "cell_type": "code",
      "metadata": {
        "id": "yUwBA38_lG3v",
        "colab_type": "code",
        "colab": {}
      },
      "source": [
        "def batch_gradient(X,y,batchsize):\n",
        "  # two ways to shuffle\n",
        "  #First\n",
        "  z = np.hstack(X,y)\n",
        "  np.random.shuffle(z)\n",
        "  \n",
        "  # Second\n",
        "  a = np.range(X.shape[0]) # number of rows in X\n",
        "  np.random.shuffle(a)\n",
        "  new_X = X(a)\n",
        "  new_y = y(a)\n",
        "  \n",
        "  X_batches = []\n",
        "  y_batches = []\n",
        "  for i in range(0,X.shape[0],batchsize):\n",
        "    X_batch = X[i:i+batchsize]\n",
        "    y_batch = y[i:i+batchsize]\n",
        "    X_batches.append(X_batch)\n",
        "    y_batches.append(y_bathc)\n",
        "  return X_batches, y_batches\n",
        "\n",
        "\n",
        "def batch_gradient2(X,y,batchsize):\n",
        "  \n",
        "  \n",
        "  for i in range(0,X.shape[0],batchsize):\n",
        "    yield (X[i:i+batchsize], y[i:i+batchsize])\n",
        "    \n",
        "for batch in batch_gradient2(....):\n",
        "  \n",
        "    \n",
        "  "
      ],
      "execution_count": 0,
      "outputs": []
    }
  ]
}